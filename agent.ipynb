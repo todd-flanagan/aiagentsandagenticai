{
  "cells": [
    {
      "cell_type": "code",
      "execution_count": 1,
      "metadata": {
        "vscode": {
          "languageId": "plaintext"
        },
        "id": "r15HMGuOSXgU"
      },
      "outputs": [],
      "source": [
        "!!pip install litellm\n",
        "\n",
        "# Important!!!\n",
        "#\n",
        "# <---- Set your 'OPENAI_API_KEY' as a secret over there with the \"key\" icon\n",
        "#\n",
        "#\n",
        "import os\n",
        "from google.colab import userdata\n",
        "api_key = userdata.get('OPENAI_API_KEY')\n",
        "os.environ['OPENAI_API_KEY'] = api_key"
      ]
    },
    {
      "cell_type": "code",
      "execution_count": 26,
      "metadata": {
        "vscode": {
          "languageId": "plaintext"
        },
        "colab": {
          "base_uri": "https://localhost:8080/"
        },
        "id": "Jg0m0kjUSXgU",
        "outputId": "a451ada3-d4a9-4cd5-e0c9-ba25edb83933"
      },
      "outputs": [
        {
          "name": "stdout",
          "output_type": "stream",
          "text": [
            "What do you need help with?reverse a list\n"
          ]
        }
      ],
      "source": [
        "from litellm import completion\n",
        "from typing import List, Dict\n",
        "import json\n",
        "import re\n",
        "\n",
        "\n",
        "def generate_response(messages: List[Dict]) -> str:\n",
        "    \"\"\"Call LLM to get response\"\"\"\n",
        "    response = completion(\n",
        "        model=\"openai/gpt-4o\",\n",
        "        messages=messages,\n",
        "        max_tokens=1024\n",
        "    )\n",
        "    return response.choices[0].message.content\n",
        "\n",
        "\n",
        "what_to_help_with = input(\"What do you need help with?\")\n",
        "\n",
        "messages = [\n",
        "    {\"role\": \"system\", \"content\": \"You are an expert on python programming.  When given a description of a function, create a python program that meets that description.  When you respond, respond only with a json dictionarey that has one entry for the code and different entries for any commentary\"},\n",
        "    {\"role\": \"user\", \"content\": what_to_help_with}\n",
        "]\n",
        "\n",
        "response = generate_response(messages)\n"
      ]
    },
    {
      "cell_type": "code",
      "execution_count": 27,
      "metadata": {
        "vscode": {
          "languageId": "plaintext"
        },
        "id": "fHlL-GYgSXgU"
      },
      "outputs": [],
      "source": [
        "import json\n",
        "import os\n",
        "\n",
        "def construct_prompt(prior_messages, agent_response, next_task):\n",
        "    \"\"\"append the agent repsonse to the prior messages and add the next task\"\"\"\n",
        "    messages = prior_messages\n",
        "    messages.append({\"role\": \"assistant\", \"content\": agent_response})\n",
        "    messages.append({\"role\": \"user\", \"content\": next_task})\n",
        "    return messages\n",
        "\n",
        "\n",
        "def parse_response(response):\n",
        "    \"\"\"Extracts action and parameters from the LLM response.\"\"\"\n",
        "    try:\n",
        "        json_pattern = r'\\{.*?\\}'\n",
        "        # Find the JSON string in the text\n",
        "        match = re.search(json_pattern, response, re.DOTALL)\n",
        "\n",
        "        if match:\n",
        "          json_string = match.group(0)\n",
        "          try:\n",
        "              # Parse the JSON string into a Python dictionary\n",
        "              data = json.loads(json_string)\n",
        "              print(data)\n",
        "              action = data[\"code\"]\n",
        "              parameters = data[\"commentary\"]\n",
        "              return action, parameters\n",
        "          except json.JSONDecodeError as e:\n",
        "              print(\"Error decoding JSON:\", e)\n",
        "        else:\n",
        "            print(\"No JSON content found in the text.\")\n",
        "\n",
        "    except (json.JSONDecodeError, KeyError):\n",
        "        return None, None\n",
        "\n",
        "\n",
        "\n",
        "def execute_action(action, parameters):\n",
        "    \"\"\"Executes the action with the given parameters.\"\"\"\n",
        "    if action == \"list_files\":\n",
        "        files = os.listdir(parameters.get(\"directory\", \".\"))\n",
        "        return f\"Files in directory: {', '.join(files)}\"\n",
        "    elif action == \"read_file\":\n",
        "        try:\n",
        "            with open(parameters[\"file_path\"], \"r\") as f:\n",
        "                content = f.read()\n",
        "            return f\"File content: {content}\"\n",
        "        except FileNotFoundError:\n",
        "            return \"File not found.\"\n",
        "    # Add more actions as needed\n",
        "    else:\n",
        "        return \"Invalid action.\"\n",
        "\n",
        "def convert_result_to_string(result):\n",
        "    \"\"\"Formats the result into a string.\"\"\"\n",
        "    return str(result)\n",
        "\n"
      ]
    },
    {
      "cell_type": "code",
      "source": [
        "def agent_loop(memory, user_input, system_rules):\n",
        "    \"\"\"Main agent loop.\"\"\"\n",
        "\n",
        "    while True:\n",
        "        messages = construct_prompt(prior_messages, user_input, system_rules)\n",
        "        response = generate_response(messages)\n",
        "        action, parameters = parse_response(response)\n",
        "\n",
        "        if action is None:\n",
        "            print(\"Invalid response format.\")\n",
        "            break\n",
        "\n",
        "        result = execute_action(action, parameters)\n",
        "        result_string = convert_result_to_string(result)\n",
        "\n",
        "        # Update memory, check for termination conditions, etc.\n",
        "        memory += f\"\\nAction: {action}, Result: {result_string}\"\n",
        "\n",
        "        if action == \"terminate\":\n",
        "            break\n",
        "\n",
        "        # Get next user input or continue based on logic\n",
        "        user_input = input(\"Enter your next query: \")\n",
        "\n",
        "    print(\"Agent loop terminated.\")\n",
        "\n",
        "# Example usage\n",
        "prior_messages = messages\n",
        "user_input= what_to_help_with\n",
        "print(response)\n",
        "agent_response, commentary = parse_response(response)\n",
        "print(agent_repsonse)\n",
        "#user_input = \"List files in the current directory.\"\n",
        "#system_rules = \"You can list files, read files, and answer questions about them.\"\n",
        "\n",
        "agent_loop(prior_messages, user_input, agent_response)"
      ],
      "metadata": {
        "colab": {
          "base_uri": "https://localhost:8080/"
        },
        "id": "ixl9dH6oYmd2",
        "outputId": "91a4fc94-9785-4d61-afbc-646b5a6b3b9d"
      },
      "execution_count": 28,
      "outputs": [
        {
          "output_type": "stream",
          "name": "stdout",
          "text": [
            "```json\n",
            "{\n",
            "  \"code\": \"def reverse_list(input_list):\\n    return input_list[::-1]\\n\\n# Example usage:\\n# my_list = [1, 2, 3, 4, 5]\\n# reversed_list = reverse_list(my_list)\\n# print(reversed_list)  # Output: [5, 4, 3, 2, 1]\",\n",
            "  \"commentary\": \"This function takes a list as input and returns a new list that is the reverse of the input. It uses Python's slicing feature to reverse the list.\"\n",
            "}\n",
            "```\n",
            "{'code': 'def reverse_list(input_list):\\n    return input_list[::-1]\\n\\n# Example usage:\\n# my_list = [1, 2, 3, 4, 5]\\n# reversed_list = reverse_list(my_list)\\n# print(reversed_list)  # Output: [5, 4, 3, 2, 1]', 'commentary': \"This function takes a list as input and returns a new list that is the reverse of the input. It uses Python's slicing feature to reverse the list.\"}\n",
            "def reverse_list(lst):\n",
            "    return lst[::-1]\n",
            "\n",
            "# Example usage:\n",
            "example_list = [1, 2, 3, 4, 5]\n",
            "reversed_list = reverse_list(example_list)\n",
            "print(reversed_list)  # Output: [5, 4, 3, 2, 1]\n",
            "{'code': 'def reverse_list(input_list):\\n    return input_list[::-1]\\n\\n# Example usage:\\n# my_list = [1, 2, 3, 4, 5]\\n# reversed_list = reverse_list(my_list)\\n# print(reversed_list)  # Output: [5, 4, 3, 2, 1]'}\n",
            "Invalid response format.\n",
            "Agent loop terminated.\n"
          ]
        }
      ]
    }
  ],
  "metadata": {
    "language_info": {
      "name": "python"
    },
    "colab": {
      "provenance": []
    },
    "kernelspec": {
      "name": "python3",
      "display_name": "Python 3"
    }
  },
  "nbformat": 4,
  "nbformat_minor": 0
}