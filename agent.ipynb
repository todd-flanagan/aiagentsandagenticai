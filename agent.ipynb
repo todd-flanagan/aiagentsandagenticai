import os
from google.colab import userdata
api_key = userdata.get('OPENAI_API_KEY')
os.environ['OPENAI_API_KEY'] = api_key
